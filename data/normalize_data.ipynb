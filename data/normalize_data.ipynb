{
 "cells": [
  {
   "cell_type": "code",
   "execution_count": 1,
   "metadata": {},
   "outputs": [],
   "source": [
    "import pandas as pd"
   ]
  },
  {
   "cell_type": "code",
   "execution_count": 2,
   "metadata": {},
   "outputs": [],
   "source": [
    "df = pd.read_csv('player_stats_initial.csv', delimiter=';')"
   ]
  },
  {
   "cell_type": "code",
   "execution_count": 3,
   "metadata": {},
   "outputs": [
    {
     "data": {
      "text/plain": [
       "id          0\n",
       "Player      0\n",
       "Nation      1\n",
       "Position    0\n",
       "Squad       0\n",
       "           ..\n",
       "OG          0\n",
       "Recov       0\n",
       "AerWon      0\n",
       "AerLost     0\n",
       "AerWon%     0\n",
       "Length: 124, dtype: int64"
      ]
     },
     "execution_count": 3,
     "metadata": {},
     "output_type": "execute_result"
    }
   ],
   "source": [
    "df.isnull().sum()"
   ]
  },
  {
   "cell_type": "code",
   "execution_count": 4,
   "metadata": {},
   "outputs": [
    {
     "data": {
      "text/plain": [
       "id          0\n",
       "Player      0\n",
       "Nation      1\n",
       "Position    0\n",
       "Squad       0\n",
       "           ..\n",
       "OG          0\n",
       "Recov       0\n",
       "AerWon      0\n",
       "AerLost     0\n",
       "AerWon%     0\n",
       "Length: 124, dtype: int64"
      ]
     },
     "execution_count": 4,
     "metadata": {},
     "output_type": "execute_result"
    }
   ],
   "source": [
    "df.isna().sum()"
   ]
  },
  {
   "cell_type": "code",
   "execution_count": 5,
   "metadata": {},
   "outputs": [],
   "source": [
    "df = df.dropna()"
   ]
  },
  {
   "cell_type": "code",
   "execution_count": 6,
   "metadata": {},
   "outputs": [],
   "source": [
    "df.rename(columns={'Assists': 'Assists/90'}, inplace=True)\n"
   ]
  },
  {
   "cell_type": "code",
   "execution_count": 7,
   "metadata": {},
   "outputs": [
    {
     "name": "stdout",
     "output_type": "stream",
     "text": [
      "False\n",
      "True\n"
     ]
    }
   ],
   "source": [
    "print('Assists' in df.columns)\n",
    "print('Assists/90' in df.columns)"
   ]
  },
  {
   "cell_type": "code",
   "execution_count": 8,
   "metadata": {},
   "outputs": [],
   "source": [
    "df['Assists'] = (df['Assists/90'] * (df['Min'] / 90)).round().astype(int)\n",
    "df['Goals/90'] = (df['Goals'] / df['Min']) * 90\n",
    "df['Goals/90'] = df['Goals/90'].round(2)\n"
   ]
  },
  {
   "cell_type": "code",
   "execution_count": 9,
   "metadata": {},
   "outputs": [
    {
     "name": "stdout",
     "output_type": "stream",
     "text": [
      "              Player  Assists/90   Min  Assists\n",
      "0   Brenden Aaronson        0.11  1596        2\n",
      "1   Yunis Abdelhamid        0.05  1980        1\n",
      "2      Himad Abdelli        0.00   770        0\n",
      "3  Salis Abdul Samed        0.00  1799        0\n",
      "4    Laurent Abergel        0.08  1165        1\n"
     ]
    }
   ],
   "source": [
    "print(df[['Player', 'Assists/90', 'Min', 'Assists']].head())"
   ]
  },
  {
   "cell_type": "code",
   "execution_count": 10,
   "metadata": {},
   "outputs": [],
   "source": [
    "variables = ['Shots', 'SoT', 'Int', 'TklWon', 'Recov', 'Fls', 'CrdY', 'CrdR']"
   ]
  },
  {
   "cell_type": "code",
   "execution_count": 11,
   "metadata": {},
   "outputs": [],
   "source": [
    "df.rename(columns={var: var + '/90' for var in variables}, inplace=True)"
   ]
  },
  {
   "cell_type": "code",
   "execution_count": 12,
   "metadata": {},
   "outputs": [
    {
     "name": "stdout",
     "output_type": "stream",
     "text": [
      "False\n",
      "False\n",
      "False\n",
      "False\n",
      "False\n",
      "False\n",
      "False\n",
      "False\n"
     ]
    }
   ],
   "source": [
    "for var in variables:\n",
    "    print(var in df.columns)"
   ]
  },
  {
   "cell_type": "code",
   "execution_count": 13,
   "metadata": {},
   "outputs": [],
   "source": [
    "for var in variables:\n",
    "    df[var] = (df[var + '/90'] * (df['Min'] / 90)).round().astype(int)"
   ]
  },
  {
   "cell_type": "code",
   "execution_count": 14,
   "metadata": {},
   "outputs": [
    {
     "name": "stdout",
     "output_type": "stream",
     "text": [
      "              Player   Min  Shots  SoT  Int  TklWon  Recov  Fls  CrdY  CrdR  \\\n",
      "0   Brenden Aaronson  1596     27    5    1       9     86   11     2     0   \n",
      "1   Yunis Abdelhamid  1980     19    1   44      35    146   29     2     0   \n",
      "2      Himad Abdelli   770      9    3    8      12     70   15     1     0   \n",
      "3  Salis Abdul Samed  1799     12    3   22      16    132   49     3     0   \n",
      "4    Laurent Abergel  1165      4    0   15      26     84   12     2     0   \n",
      "\n",
      "   Shots/90  SoT/90  Int/90  TklWon/90  Recov/90  Fls/90  CrdY/90  CrdR/90  \n",
      "0      1.53    0.28    0.06       0.51      4.86    0.62     0.11      0.0  \n",
      "1      0.86    0.05    2.00       1.59      6.64    1.32     0.09      0.0  \n",
      "2      1.05    0.35    0.93       1.40      8.14    1.74     0.12      0.0  \n",
      "3      0.60    0.15    1.10       0.80      6.60    2.45     0.15      0.0  \n",
      "4      0.31    0.00    1.16       2.02      6.51    0.93     0.16      0.0  \n"
     ]
    }
   ],
   "source": [
    "variables_per90 = [var + '/90' for var in variables]\n",
    "print(df[['Player'] + ['Min'] + variables + variables_per90].head())"
   ]
  },
  {
   "cell_type": "code",
   "execution_count": 15,
   "metadata": {},
   "outputs": [
    {
     "data": {
      "text/plain": [
       "array(['MFFW', 'DF', 'MF', 'FWMF', 'FW', 'DFFW', 'MFDF', 'GK', 'DFMF',\n",
       "       'FWDF'], dtype=object)"
      ]
     },
     "execution_count": 15,
     "metadata": {},
     "output_type": "execute_result"
    }
   ],
   "source": [
    "df['Position'].unique()"
   ]
  },
  {
   "cell_type": "code",
   "execution_count": 16,
   "metadata": {},
   "outputs": [],
   "source": [
    "df['Position'] = df['Position'].apply(lambda x: x[:2] + ',' + x[2:] if len(x) > 2 else x)"
   ]
  },
  {
   "cell_type": "code",
   "execution_count": 17,
   "metadata": {},
   "outputs": [],
   "source": [
    "max_games = df.groupby('Squad')['MP'].max().reset_index()\n",
    "max_games.rename(columns={'MP': 'MaxGames'}, inplace=True)\n"
   ]
  },
  {
   "cell_type": "code",
   "execution_count": 18,
   "metadata": {},
   "outputs": [],
   "source": [
    "df = pd.merge(df, max_games, on='Squad')"
   ]
  },
  {
   "cell_type": "code",
   "execution_count": 19,
   "metadata": {},
   "outputs": [
    {
     "data": {
      "text/html": [
       "<div>\n",
       "<style scoped>\n",
       "    .dataframe tbody tr th:only-of-type {\n",
       "        vertical-align: middle;\n",
       "    }\n",
       "\n",
       "    .dataframe tbody tr th {\n",
       "        vertical-align: top;\n",
       "    }\n",
       "\n",
       "    .dataframe thead th {\n",
       "        text-align: right;\n",
       "    }\n",
       "</style>\n",
       "<table border=\"1\" class=\"dataframe\">\n",
       "  <thead>\n",
       "    <tr style=\"text-align: right;\">\n",
       "      <th></th>\n",
       "      <th>id</th>\n",
       "      <th>Player</th>\n",
       "      <th>Nation</th>\n",
       "      <th>Position</th>\n",
       "      <th>Squad</th>\n",
       "      <th>Comp</th>\n",
       "      <th>Age</th>\n",
       "      <th>Born</th>\n",
       "      <th>MP</th>\n",
       "      <th>Starts</th>\n",
       "      <th>...</th>\n",
       "      <th>Goals/90</th>\n",
       "      <th>Shots</th>\n",
       "      <th>SoT</th>\n",
       "      <th>Int</th>\n",
       "      <th>TklWon</th>\n",
       "      <th>Recov</th>\n",
       "      <th>Fls</th>\n",
       "      <th>CrdY</th>\n",
       "      <th>CrdR</th>\n",
       "      <th>MaxGames</th>\n",
       "    </tr>\n",
       "  </thead>\n",
       "  <tbody>\n",
       "    <tr>\n",
       "      <th>0</th>\n",
       "      <td>1</td>\n",
       "      <td>Brenden Aaronson</td>\n",
       "      <td>USA</td>\n",
       "      <td>MF,FW</td>\n",
       "      <td>Leeds United</td>\n",
       "      <td>Premier League</td>\n",
       "      <td>22</td>\n",
       "      <td>2000</td>\n",
       "      <td>20</td>\n",
       "      <td>19</td>\n",
       "      <td>...</td>\n",
       "      <td>0.06</td>\n",
       "      <td>27</td>\n",
       "      <td>5</td>\n",
       "      <td>1</td>\n",
       "      <td>9</td>\n",
       "      <td>86</td>\n",
       "      <td>11</td>\n",
       "      <td>2</td>\n",
       "      <td>0</td>\n",
       "      <td>21</td>\n",
       "    </tr>\n",
       "    <tr>\n",
       "      <th>1</th>\n",
       "      <td>2</td>\n",
       "      <td>Yunis Abdelhamid</td>\n",
       "      <td>MAR</td>\n",
       "      <td>DF</td>\n",
       "      <td>Reims</td>\n",
       "      <td>Ligue 1</td>\n",
       "      <td>35</td>\n",
       "      <td>1987</td>\n",
       "      <td>22</td>\n",
       "      <td>22</td>\n",
       "      <td>...</td>\n",
       "      <td>0.00</td>\n",
       "      <td>19</td>\n",
       "      <td>1</td>\n",
       "      <td>44</td>\n",
       "      <td>35</td>\n",
       "      <td>146</td>\n",
       "      <td>29</td>\n",
       "      <td>2</td>\n",
       "      <td>0</td>\n",
       "      <td>22</td>\n",
       "    </tr>\n",
       "    <tr>\n",
       "      <th>2</th>\n",
       "      <td>3</td>\n",
       "      <td>Himad Abdelli</td>\n",
       "      <td>FRA</td>\n",
       "      <td>MF,FW</td>\n",
       "      <td>Angers</td>\n",
       "      <td>Ligue 1</td>\n",
       "      <td>23</td>\n",
       "      <td>1999</td>\n",
       "      <td>14</td>\n",
       "      <td>8</td>\n",
       "      <td>...</td>\n",
       "      <td>0.00</td>\n",
       "      <td>9</td>\n",
       "      <td>3</td>\n",
       "      <td>8</td>\n",
       "      <td>12</td>\n",
       "      <td>70</td>\n",
       "      <td>15</td>\n",
       "      <td>1</td>\n",
       "      <td>0</td>\n",
       "      <td>22</td>\n",
       "    </tr>\n",
       "    <tr>\n",
       "      <th>3</th>\n",
       "      <td>4</td>\n",
       "      <td>Salis Abdul Samed</td>\n",
       "      <td>GHA</td>\n",
       "      <td>MF</td>\n",
       "      <td>Lens</td>\n",
       "      <td>Ligue 1</td>\n",
       "      <td>22</td>\n",
       "      <td>2000</td>\n",
       "      <td>20</td>\n",
       "      <td>20</td>\n",
       "      <td>...</td>\n",
       "      <td>0.05</td>\n",
       "      <td>12</td>\n",
       "      <td>3</td>\n",
       "      <td>22</td>\n",
       "      <td>16</td>\n",
       "      <td>132</td>\n",
       "      <td>49</td>\n",
       "      <td>3</td>\n",
       "      <td>0</td>\n",
       "      <td>22</td>\n",
       "    </tr>\n",
       "    <tr>\n",
       "      <th>4</th>\n",
       "      <td>5</td>\n",
       "      <td>Laurent Abergel</td>\n",
       "      <td>FRA</td>\n",
       "      <td>MF</td>\n",
       "      <td>Lorient</td>\n",
       "      <td>Ligue 1</td>\n",
       "      <td>30</td>\n",
       "      <td>1993</td>\n",
       "      <td>15</td>\n",
       "      <td>15</td>\n",
       "      <td>...</td>\n",
       "      <td>0.00</td>\n",
       "      <td>4</td>\n",
       "      <td>0</td>\n",
       "      <td>15</td>\n",
       "      <td>26</td>\n",
       "      <td>84</td>\n",
       "      <td>12</td>\n",
       "      <td>2</td>\n",
       "      <td>0</td>\n",
       "      <td>22</td>\n",
       "    </tr>\n",
       "  </tbody>\n",
       "</table>\n",
       "<p>5 rows × 135 columns</p>\n",
       "</div>"
      ],
      "text/plain": [
       "   id             Player Nation Position         Squad            Comp  Age  \\\n",
       "0   1   Brenden Aaronson    USA    MF,FW  Leeds United  Premier League   22   \n",
       "1   2   Yunis Abdelhamid    MAR       DF         Reims         Ligue 1   35   \n",
       "2   3      Himad Abdelli    FRA    MF,FW        Angers         Ligue 1   23   \n",
       "3   4  Salis Abdul Samed    GHA       MF          Lens         Ligue 1   22   \n",
       "4   5    Laurent Abergel    FRA       MF       Lorient         Ligue 1   30   \n",
       "\n",
       "   Born  MP  Starts  ...  Goals/90  Shots  SoT  Int  TklWon  Recov  Fls  CrdY  \\\n",
       "0  2000  20      19  ...      0.06     27    5    1       9     86   11     2   \n",
       "1  1987  22      22  ...      0.00     19    1   44      35    146   29     2   \n",
       "2  1999  14       8  ...      0.00      9    3    8      12     70   15     1   \n",
       "3  2000  20      20  ...      0.05     12    3   22      16    132   49     3   \n",
       "4  1993  15      15  ...      0.00      4    0   15      26     84   12     2   \n",
       "\n",
       "   CrdR  MaxGames  \n",
       "0     0        21  \n",
       "1     0        22  \n",
       "2     0        22  \n",
       "3     0        22  \n",
       "4     0        22  \n",
       "\n",
       "[5 rows x 135 columns]"
      ]
     },
     "execution_count": 19,
     "metadata": {},
     "output_type": "execute_result"
    }
   ],
   "source": [
    "df.head()"
   ]
  },
  {
   "cell_type": "code",
   "execution_count": 20,
   "metadata": {},
   "outputs": [],
   "source": [
    "df['MaxPossibleMinutes'] = df['MaxGames'] * 90\n",
    "df['MinutesOnBench'] = df['MaxPossibleMinutes'] - df['Min']\n",
    "df['PlayBySuplente'] = df['MP'] - df['Starts']\n",
    "df['NotPlayed'] = df['MaxGames'] - df['MP']"
   ]
  },
  {
   "cell_type": "code",
   "execution_count": 21,
   "metadata": {},
   "outputs": [],
   "source": [
    "df.to_csv('player_stats.csv', index=False)"
   ]
  },
  {
   "cell_type": "code",
   "execution_count": null,
   "metadata": {},
   "outputs": [],
   "source": []
  }
 ],
 "metadata": {
  "kernelspec": {
   "display_name": "env_ds",
   "language": "python",
   "name": "python3"
  },
  "language_info": {
   "codemirror_mode": {
    "name": "ipython",
    "version": 3
   },
   "file_extension": ".py",
   "mimetype": "text/x-python",
   "name": "python",
   "nbconvert_exporter": "python",
   "pygments_lexer": "ipython3",
   "version": "3.10.15"
  }
 },
 "nbformat": 4,
 "nbformat_minor": 2
}
