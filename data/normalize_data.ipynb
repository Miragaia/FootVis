{
 "cells": [
  {
   "cell_type": "code",
   "execution_count": 2,
   "metadata": {},
   "outputs": [],
   "source": [
    "import pandas as pd"
   ]
  },
  {
   "cell_type": "code",
   "execution_count": 3,
   "metadata": {},
   "outputs": [],
   "source": [
    "df = pd.read_csv('player_stats_initial.csv', delimiter=';')"
   ]
  },
  {
   "cell_type": "code",
   "execution_count": 4,
   "metadata": {},
   "outputs": [
    {
     "data": {
      "text/plain": [
       "id          0\n",
       "Player      0\n",
       "Nation      1\n",
       "Position    0\n",
       "Squad       0\n",
       "           ..\n",
       "OG          0\n",
       "Recov       0\n",
       "AerWon      0\n",
       "AerLost     0\n",
       "AerWon%     0\n",
       "Length: 124, dtype: int64"
      ]
     },
     "execution_count": 4,
     "metadata": {},
     "output_type": "execute_result"
    }
   ],
   "source": [
    "df.isnull().sum()"
   ]
  },
  {
   "cell_type": "code",
   "execution_count": 5,
   "metadata": {},
   "outputs": [
    {
     "data": {
      "text/plain": [
       "id          0\n",
       "Player      0\n",
       "Nation      1\n",
       "Position    0\n",
       "Squad       0\n",
       "           ..\n",
       "OG          0\n",
       "Recov       0\n",
       "AerWon      0\n",
       "AerLost     0\n",
       "AerWon%     0\n",
       "Length: 124, dtype: int64"
      ]
     },
     "execution_count": 5,
     "metadata": {},
     "output_type": "execute_result"
    }
   ],
   "source": [
    "df.isna().sum()"
   ]
  },
  {
   "cell_type": "code",
   "execution_count": 6,
   "metadata": {},
   "outputs": [],
   "source": [
    "df = df.dropna()"
   ]
  },
  {
   "cell_type": "code",
   "execution_count": 7,
   "metadata": {},
   "outputs": [],
   "source": [
    "df.rename(columns={'Assists': 'Assists/90'}, inplace=True)\n"
   ]
  },
  {
   "cell_type": "code",
   "execution_count": 8,
   "metadata": {},
   "outputs": [
    {
     "name": "stdout",
     "output_type": "stream",
     "text": [
      "False\n",
      "True\n"
     ]
    }
   ],
   "source": [
    "print('Assists' in df.columns)\n",
    "print('Assists/90' in df.columns)"
   ]
  },
  {
   "cell_type": "code",
   "execution_count": 9,
   "metadata": {},
   "outputs": [],
   "source": [
    "df['Assists'] = (df['Assists/90'] * (df['Min'] / 90)).round().astype(int)"
   ]
  },
  {
   "cell_type": "code",
   "execution_count": 10,
   "metadata": {},
   "outputs": [
    {
     "name": "stdout",
     "output_type": "stream",
     "text": [
      "              Player  Assists/90   Min  Assists\n",
      "0   Brenden Aaronson        0.11  1596        2\n",
      "1   Yunis Abdelhamid        0.05  1980        1\n",
      "2      Himad Abdelli        0.00   770        0\n",
      "3  Salis Abdul Samed        0.00  1799        0\n",
      "4    Laurent Abergel        0.08  1165        1\n"
     ]
    }
   ],
   "source": [
    "print(df[['Player', 'Assists/90', 'Min', 'Assists']].head())"
   ]
  },
  {
   "cell_type": "code",
   "execution_count": 11,
   "metadata": {},
   "outputs": [],
   "source": [
    "variables = ['Shots', 'SoT', 'Int', 'TklWon', 'Recov', 'Fls', 'CrdY', 'CrdR']"
   ]
  },
  {
   "cell_type": "code",
   "execution_count": 20,
   "metadata": {},
   "outputs": [],
   "source": [
    "df.rename(columns={var: var + '/90' for var in variables}, inplace=True)"
   ]
  },
  {
   "cell_type": "code",
   "execution_count": 21,
   "metadata": {},
   "outputs": [
    {
     "name": "stdout",
     "output_type": "stream",
     "text": [
      "False\n",
      "False\n",
      "False\n",
      "False\n",
      "False\n",
      "False\n",
      "False\n",
      "False\n"
     ]
    }
   ],
   "source": [
    "for var in variables:\n",
    "    print(var in df.columns)"
   ]
  },
  {
   "cell_type": "code",
   "execution_count": 22,
   "metadata": {},
   "outputs": [],
   "source": [
    "for var in variables:\n",
    "    df[var] = (df[var + '/90'] * (df['Min'] / 90)).round().astype(int)"
   ]
  },
  {
   "cell_type": "code",
   "execution_count": 25,
   "metadata": {},
   "outputs": [
    {
     "name": "stdout",
     "output_type": "stream",
     "text": [
      "              Player   Min  Shots  SoT  Int  TklWon  Recov  Fls  CrdY  CrdR  \\\n",
      "0   Brenden Aaronson  1596     27    5    1       9     86   11     2     0   \n",
      "1   Yunis Abdelhamid  1980     19    1   44      35    146   29     2     0   \n",
      "2      Himad Abdelli   770      9    3    8      12     70   15     1     0   \n",
      "3  Salis Abdul Samed  1799     12    3   22      16    132   49     3     0   \n",
      "4    Laurent Abergel  1165      4    0   15      26     84   12     2     0   \n",
      "\n",
      "   Shots/90  SoT/90  Int/90  TklWon/90  Recov/90  Fls/90  CrdY/90  CrdR/90  \n",
      "0      1.53    0.28    0.06       0.51      4.86    0.62     0.11      0.0  \n",
      "1      0.86    0.05    2.00       1.59      6.64    1.32     0.09      0.0  \n",
      "2      1.05    0.35    0.93       1.40      8.14    1.74     0.12      0.0  \n",
      "3      0.60    0.15    1.10       0.80      6.60    2.45     0.15      0.0  \n",
      "4      0.31    0.00    1.16       2.02      6.51    0.93     0.16      0.0  \n"
     ]
    }
   ],
   "source": [
    "variables_per90 = [var + '/90' for var in variables]\n",
    "print(df[['Player'] + ['Min'] + variables + variables_per90].head())"
   ]
  },
  {
   "cell_type": "code",
   "execution_count": 26,
   "metadata": {},
   "outputs": [],
   "source": [
    "df.to_csv('player_stats.csv', index=False)"
   ]
  },
  {
   "cell_type": "code",
   "execution_count": null,
   "metadata": {},
   "outputs": [],
   "source": []
  }
 ],
 "metadata": {
  "kernelspec": {
   "display_name": "env_ds",
   "language": "python",
   "name": "python3"
  },
  "language_info": {
   "codemirror_mode": {
    "name": "ipython",
    "version": 3
   },
   "file_extension": ".py",
   "mimetype": "text/x-python",
   "name": "python",
   "nbconvert_exporter": "python",
   "pygments_lexer": "ipython3",
   "version": "3.10.15"
  }
 },
 "nbformat": 4,
 "nbformat_minor": 2
}
